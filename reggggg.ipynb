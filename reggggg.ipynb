{
 "cells": [
  {
   "cell_type": "markdown",
   "id": "87281942",
   "metadata": {},
   "source": [
    "***GENERATED CODE FOR reggggg PIPELINE.***"
   ]
  },
  {
   "cell_type": "markdown",
   "id": "b170d1a1",
   "metadata": {},
   "source": [
    "***DON'T EDIT THIS CODE.***"
   ]
  },
  {
   "cell_type": "markdown",
   "id": "53576a66",
   "metadata": {},
   "source": [
    "***CONNECTOR FUNCTIONS TO READ DATA.***"
   ]
  },
  {
   "cell_type": "code",
   "execution_count": null,
   "id": "c1eeb322",
   "metadata": {},
   "outputs": [],
   "source": [
    "import os\n",
    "import datetime\n",
    "import logging\n",
    "import warnings\n",
    "warnings.filterwarnings('ignore')\n",
    "logging.basicConfig(format='%(levelname)s:%(message)s', level=logging.INFO)\n",
    "\n",
    "\n",
    "class HDFSConnector:\n",
    "\n",
    "    def fetch(spark, config):\n",
    "        ################### INPUT HADOOP HOST PORT TO CONNECT WITH ###############################\n",
    "        hdfs_server = str(os.environ['HDFS_SERVER'])\n",
    "        hdfs_port = int(os.environ['HDFS_PORT'])\n",
    "        df = spark.read.options(header='true', inferschema='true').csv(\n",
    "            f\"hdfs://{hdfs_server}:{hdfs_port}{eval(config)['url']}\", header='true')\n",
    "        display(df.limit(2).toPandas())\n",
    "        return df\n",
    "\n",
    "    def put(df, spark, config):\n",
    "        return df.write.format('csv').options(header='true' if eval(config)[\"is_header\"] == \"Use Header Line\" else 'false',\n",
    "                                              delimiter=eval(config)[\"delimiter\"]).save((\"%s %s\") % (datetime.datetime.now().strftime(\"%Y-%m-%d %H.%M.%S\")+\"_\", eval(config)['url']))\n"
   ]
  },
  {
   "cell_type": "markdown",
   "id": "f5568b10",
   "metadata": {},
   "source": [
    "***OPERATION FUNCTIONS***"
   ]
  },
  {
   "cell_type": "code",
   "execution_count": null,
   "id": "f341dc07",
   "metadata": {},
   "outputs": [],
   "source": [
    "import pyspark\n",
    "from dask.dataframe import from_pandas\n",
    "import json\n",
    "\n",
    "\n",
    "def DateTransform(df, functionsData, applyOn=[]):\n",
    "    import dask.dataframe as dd\n",
    "    import pandas as pd\n",
    "    import numpy as np\n",
    "\n",
    "    for functiondata in functionsData:\n",
    "        functiondata = functiondata\n",
    "\n",
    "    dfcp = df\n",
    "    dfcp1 = dfcp\n",
    "    resulttype = dfcp1.select_dtypes(include=[np.datetime64])\n",
    "    for existingdatecols in resulttype.columns:\n",
    "        dfcp[existingdatecols] = dfcp[existingdatecols].apply(\n",
    "            lambda x: x.replace(tzinfo=None))\n",
    "\n",
    "    Dateformat1 = 'YYYY-DD-MM'\n",
    "    Dateformat2 = 'YY/MM/DD'\n",
    "    Dateformat3 = 'DD/MM/YYYY'\n",
    "    Dateformat4 = 'M/D/YY'\n",
    "    NotDateFromat = [Dateformat1, Dateformat2, Dateformat3, Dateformat4]\n",
    "\n",
    "    if 'inputDateFormat' in functiondata:\n",
    "        coldetail = functiondata['column']\n",
    "        for col in coldetail:\n",
    "            colname = col['columnName']\n",
    "        inputFormat = str(functiondata['inputDateFormat'])\n",
    "        functiondata['outputDateFormat']\n",
    "        functiondata['newColumn']\n",
    "    if ('newColumnName' in functiondata):\n",
    "        if inputFormat in NotDateFromat:\n",
    "            NewDateCol = functiondata['newColumnName']\n",
    "            dfcp = dfcp.compute()\n",
    "            dfcp[NewDateCol] = dfcp[colname].apply(\n",
    "                lambda x: pd.to_datetime(x, format='%d/%m/%Y', utc=False))\n",
    "            dfcp[NewDateCol] = dfcp[NewDateCol].apply(\n",
    "                lambda x: x.strftime(\"%Y-%m-%d\"))\n",
    "            dfcp[NewDateCol] = pd.to_datetime(dfcp[NewDateCol], utc=False)\n",
    "            dfcp = dd.from_pandas(dfcp, npartitions=2)\n",
    "            dfcp[NewDateCol] = dfcp[NewDateCol].apply(\n",
    "                lambda x: x.replace(tzinfo=None))\n",
    "    elif (('newColumnName' not in functiondata) and (inputFormat in NotDateFromat)):\n",
    "        dfcp = dfcp.compute()\n",
    "        dfcp[colname] = dfcp[colname].apply(\n",
    "            lambda x: pd.to_datetime(x, format='%d/%m/%Y'))\n",
    "        dfcp[colname] = dfcp[colname].apply(lambda x: x.strftime(\"%Y-%m-%d\"))\n",
    "        dfcp[colname] = pd.to_datetime(dfcp[colname], utc=False)\n",
    "        dfcp = dd.from_pandas(dfcp, npartitions=2)\n",
    "\n",
    "    return dfcp\n",
    "\n",
    "\n",
    "def runDataCleansing(sparkDf, spark, config):\n",
    "    configObj = json.loads(config)\n",
    "    sparkDf.persist(pyspark.StorageLevel.MEMORY_AND_DISK)\n",
    "    df = from_pandas((sparkDf.toPandas()), npartitions=5)\n",
    "    functionList = configObj['functionsApplied']\n",
    "    Data_Cleansing_Methods = {\"replaceBy\": replaceValues,\n",
    "                              \"formula\": calculateFormula,\n",
    "                              \"aggregate\": aggregation,\n",
    "                              \"converttostringtype\": changeToString,\n",
    "                              \"editname\": renameColumns}\n",
    "    for function in functionList:\n",
    "        function['functionName']\n",
    "        df = Data_Cleansing_Methods[function['functionName']](df, function['functionsData'],\n",
    "                                                              function['applyOn'])\n",
    "    sparkDf = spark.createDataFrame(df.compute())\n",
    "\n",
    "    display(sparkDf.limit(2).toPandas())\n",
    "    return sparkDf\n"
   ]
  },
  {
   "cell_type": "markdown",
   "id": "92e00ee9",
   "metadata": {},
   "source": [
    "***CONNECTOR FUNCTIONS TO WRITE DATA.***"
   ]
  },
  {
   "cell_type": "code",
   "execution_count": null,
   "id": "21593d3a",
   "metadata": {},
   "outputs": [],
   "source": [
    "import datetime\n",
    "import requests\n",
    "import datetime\n",
    "import logging\n",
    "import warnings\n",
    "warnings.filterwarnings('ignore')\n",
    "logging.basicConfig(format='%(levelname)s:%(message)s', level=logging.INFO)\n",
    "\n",
    "\n",
    "class NumtraConnector:\n",
    "\n",
    "    def put(inStages, inStagesData, stageId, spark, config):\n",
    "        path = eval(config)['server_url']\n",
    "        baseType = eval(config)['baseType']\n",
    "        results_url = eval(config)['results_url']\n",
    "        server = eval(config)['server']\n",
    "        originalfile = eval(config)['orignalKey']\n",
    "        eval(config)['pathOnly']\n",
    "        filename = eval(config)['filename']\n",
    "        eval(config)['ser']\n",
    "        eval(config)['user']\n",
    "        eval(config)['password']\n",
    "        eval(config)['authSource']\n",
    "        eval(config)['user_id']\n",
    "        eval(config)['parent_id']\n",
    "        eval(config)['project_id']\n",
    "        time = str(int(datetime.datetime.now().timestamp()))\n",
    "\n",
    "        inStagesData[inStages[0]]\n",
    "\n",
    "        print(path)\n",
    "        print(baseType)\n",
    "        print(results_url)\n",
    "        print(server)\n",
    "        print(originalfile)\n",
    "        print(filename)\n",
    "\n",
    "        args = {\n",
    "            'url': path,\n",
    "            'baseType': baseType,\n",
    "            'originalfile': originalfile,\n",
    "            'filename': time + filename\n",
    "        }\n",
    "\n",
    "        response = requests.post(results_url, args)\n",
    "        return response\n"
   ]
  },
  {
   "cell_type": "markdown",
   "id": "acad721e",
   "metadata": {},
   "source": [
    "***READING DATAFRAME***"
   ]
  },
  {
   "cell_type": "code",
   "execution_count": null,
   "id": "7bbbd025",
   "metadata": {},
   "outputs": [],
   "source": [
    "############## CREATE SPARK SESSION ############################ ENTER YOUR SPARK MASTER IP AND PORT TO CONNECT TO SERVER ################\n",
    "from pyspark.sql import SparkSession\n",
    "spark = SparkSession.builder.master('local[1]').getOrCreate()\n",
    "#%run regggggHooks.ipynb\n",
    "try:\n",
    "\t#sourcePreExecutionHook()\n",
    "\n",
    "\tregreiondatedatafzeb = HDFSConnector.fetch(spark, \"{'url': '/FileStore/platform/testdata/1717660077180_Regression date data.csv', 'filename': 'Regression date data.csv', 'delimiter': ',', 'file_type': 'Delimeted', 'dbfs_token': '', 'dbfs_domain': '', 'FilePath': '/TimeSeriesTesting/Datasets/Regression date data.csv', 'viewFileName': 'Regression date data.csv', 'is_header': 'Use Header Line', 'baseType': 'hdfs', 'server_url': '/nexusMax/NexusMaxPlatform/uploads/platform/', 'results_url': 'http://dnm.bfirst.ai:44040/api/read/hdfs'}\")\n",
    "\n",
    "except Exception as ex: \n",
    "\tlogging.error(ex)\n",
    "#spark.stop()\n"
   ]
  },
  {
   "cell_type": "markdown",
   "id": "2e99045c",
   "metadata": {},
   "source": [
    "***PERFORMING OPERATIONS***"
   ]
  },
  {
   "cell_type": "code",
   "execution_count": null,
   "id": "5d75796c",
   "metadata": {},
   "outputs": [],
   "source": [
    "#%run regggggHooks.ipynb\n",
    "try:\n",
    "\t#operationPreExecutionHook()\n",
    "\n",
    "datapreparation = runDataCleansing(regreiondatedatafzeb,spark,json.dumps( {\"url\": \"/FileStore/platform/testdata/1717660077180_Regression date data.csv\", \"source_attributes\": {}, \"DataPrepFile\": \"/FileStore/platform/testdata/1717660077180_Regression date data.csv\", \"data_source\": \"platfiles\", \"startListenerOnly\": 1, \"dateColumnNames\": [\"AdmitDate\"], \"FilePath\": \"/FileStore/platform/extra/66618d0e8a1ee41285a400801717669270/0part.csv\", \"requestRatio\": 2.0, \"totalRows\": 995, \"BasicStats\": {\"missingValues\": 0.0, \"numberOfColumns\": 14, \"numberOfRows\": 995, \"duplicateRowCount\": 0, \"stats\": [{\"column\": \"AdmitDate\", \"alias\": \"AdmitDate\", \"generated\": 0, \"type\": \"date\", \"max\": \"2015922\", \"min\": \"201311\", \"mean\": \"\", \"missing\": 0.0, \"stddev\": \"\", \"outliers\": [], \"validation\": []}, {\"column\": \"lengthofstay\", \"alias\": \"lengthofstay\", \"generated\": 0, \"type\": \"numeric\", \"max\": 15, \"min\": 1, \"mean\": 3.9678391959798995, \"missing\": 0.0, \"stddev\": 2.35, \"outliers\": [12, 15, 12], \"validation\": []}, {\"column\": \"rcount\", \"alias\": \"rcount\", \"generated\": 0, \"type\": \"numeric\", \"max\": 5, \"min\": 0, \"mean\": 1.1185929648241206, \"missing\": 0.0, \"stddev\": 1.52, \"outliers\": [5, 5, 5, 5, 5, 5, 5, 5, 5, 5, 5, 5, 5, 5, 5, 5, 5, 5, 5, 5, 5, 5, 5, 5, 5, 5, 5, 5, 5, 5, 5, 5, 5, 5, 5, 5, 5, 5, 5, 5, 5, 5, 5, 5, 5, 5, 5], \"validation\": []}, {\"column\": \"gender\", \"alias\": \"gender\", \"generated\": 0, \"type\": \"String\", \"max\": \"M\", \"min\": \"F\", \"mean\": \"\", \"missing\": 0.0, \"stddev\": \"\", \"outliers\": [], \"validation\": []}, {\"column\": \"hematocrit\", \"alias\": \"hematocrit\", \"generated\": 0, \"type\": \"real\", \"max\": 21.5, \"min\": 6.8, \"mean\": 12.077010050251257, \"missing\": 0.0, \"stddev\": 1.93, \"outliers\": [15.2, 9.0, 21.5, 8.7, 9.4, 8.075, 9.1, 9.3, 7.5, 14.8, 14.9, 8.5, 15.0, 9.0, 15.6, 14.8, 9.0, 9.4, 7.7, 8.5, 15.9, 17.3, 7.9, 7.4, 18.4, 9.0, 8.2, 7.3, 9.3, 18.45, 15.9, 15.0, 8.1, 15.8, 15.0, 14.9, 8.3, 8.2, 7.8, 16.7, 7.9, 21.1, 14.8, 16.1, 14.8, 8.7, 16.1, 17.1, 15.3, 8.4, 8.5, 17.7, 15.8, 16.3, 9.2, 14.9, 7.3, 8.7, 16.8, 7.6, 7.9, 7.9, 6.8, 9.2, 9.3, 9.4, 16.6, 9.5, 15.0, 8.4, 8.7, 9.4, 8.7, 8.6, 9.2, 9.2, 9.5, 16.6, 17.8, 7.1, 9.5, 15.4, 16.8, 15.2, 8.0, 15.0, 16.4, 9.3, 9.0, 8.1, 9.2, 7.5, 19.0, 9.1, 9.1, 8.2, 9.1, 8.1, 17.8, 14.9, 15.6, 16.0, 7.2, 8.1, 16.1, 16.2, 7.8, 8.8, 15.3, 8.5, 7.3, 8.8, 9.4, 15.5, 16.9, 14.9, 16.5, 8.5, 15.1, 19.0, 17.7, 17.1, 16.0, 16.3, 7.5, 14.8, 8.8, 8.9, 9.2, 17.9, 9.3, 9.4, 9.1, 8.45, 15.1, 9.5, 7.15, 15.5, 17.7, 14.9, 15.4, 9.5, 9.0, 8.4, 8.7, 8.3, 14.9, 9.2, 9.4, 7.2, 16.8, 9.2, 15.6, 9.3, 9.5, 16.1, 8.1, 15.8, 8.2, 9.2, 15.4, 9.5, 8.8, 8.7, 15.5, 15.4, 15.0, 15.0, 15.9, 16.4, 16.1, 9.0, 15.3, 17.7, 15.5, 7.8, 7.7, 9.3, 15.4], \"validation\": []}, {\"column\": \"neutrophils\", \"alias\": \"neutrophils\", \"generated\": 0, \"type\": \"real\", \"max\": 37.5, \"min\": 0.8, \"mean\": 9.769472361809045, \"missing\": 0.0, \"stddev\": 3.79, \"outliers\": [18.65, 32.3, 19.8, 16.0, 16.7, 15.1, 20.5, 16.5, 15.7, 20.4, 16.8, 0.8, 3.5, 16.8, 21.5, 18.8, 15.9, 18.3, 33.2, 19.3, 16.7, 17.7, 18.6, 3.3, 16.2, 16.6, 17.3, 21.4, 3.0, 18.0, 16.6, 17.5, 19.5, 17.5, 20.7, 19.5, 17.6, 23.3, 17.2, 15.2, 3.25, 2.1, 16.9, 17.1, 16.8, 15.9, 15.8, 15.0, 2.0, 2.2, 16.6, 32.3, 23.2, 17.0, 15.0, 17.3, 17.5, 15.7, 15.1, 16.8, 15.8, 15.6, 18.5, 3.0, 16.7, 23.0, 16.6, 18.5, 37.5, 16.7, 16.3, 15.9, 15.8, 2.5, 17.1, 25.5, 18.6, 17.5, 16.4, 20.6, 2.6, 20.6, 16.7, 16.0, 17.2, 20.6, 15.5, 16.3, 18.0, 15.6, 17.5, 16.6, 15.2, 18.5, 3.0, 22.8, 18.2, 17.4, 18.1, 18.6, 16.9], \"validation\": []}, {\"column\": \"sodium\", \"alias\": \"sodium\", \"generated\": 0, \"type\": \"real\", \"max\": 147.6734054, \"min\": 129.140594, \"mean\": 137.81784951829147, \"missing\": 0.0, \"stddev\": 3.08, \"outliers\": [145.402618, 147.6734054, 129.1890081, 129.512507, 146.0746105, 145.9085343, 129.8903773, 145.1518362, 130.5817328, 146.267772, 145.7434419, 129.140594, 130.4243133, 145.889009], \"validation\": []}, {\"column\": \"glucose\", \"alias\": \"glucose\", \"generated\": 0, \"type\": \"real\", \"max\": 248.9076823, \"min\": 53.4073672, \"mean\": 141.8131896778995, \"missing\": 0.0, \"stddev\": 29.31, \"outliers\": [213.5903601, 248.9076823, 72.15010105, 56.63158494, 71.44930555, 217.1879947, 67.48483628, 221.2868824, 63.08540043, 69.72809687, 63.93751919, 218.3747502, 72.0475417, 53.4073672, 62.87609497, 227.085692], \"validation\": []}, {\"column\": \"bloodureanitro\", \"alias\": \"bloodureanitro\", \"generated\": 0, \"type\": \"real\", \"max\": 87.0, \"min\": 3.0, \"mean\": 13.48155061019397, \"missing\": 0.0, \"stddev\": 7.34, \"outliers\": [41.0, 9.0, 6.0, 20.0, 6.0, 39.0, 26.5, 21.0, 7.0, 4.0, 19.0, 18.0, 3.0, 19.0, 33.0, 17.0, 9.0, 17.0, 9.0, 19.0, 9.0, 6.0, 9.0, 26.0, 4.0, 25.0, 9.0, 30.0, 5.0, 83.0, 21.0, 6.0, 8.0, 26.0, 9.0, 18.0, 32.0, 30.0, 24.0, 7.0, 9.0, 28.0, 6.0, 4.0, 6.0, 39.0, 18.0, 35.0, 18.0, 6.0, 9.0, 6.0, 53.0, 9.0, 74.5, 23.0, 17.0, 8.0, 25.0, 6.0, 9.0, 9.0, 17.0, 8.0, 5.0, 9.0, 8.0, 21.0, 36.0, 9.0, 23.0, 20.0, 87.0, 24.0, 26.0, 6.5, 23.0, 7.0, 6.0, 17.0, 9.0, 38.0, 8.0, 3.0, 6.0, 8.0, 17.0, 22.0, 26.0, 17.0, 5.0, 18.0, 24.0, 25.0, 4.0, 7.0, 8.0, 8.0, 18.0, 38.0, 7.0, 19.0, 7.0, 44.0, 26.0, 18.0, 18.0, 22.0, 25.0, 25.0, 7.0, 9.0, 9.0, 6.0, 4.0, 21.0, 8.0, 4.0, 9.0, 8.0, 33.0, 9.0, 33.0, 6.142857143, 6.0, 30.0, 17.0, 9.0, 7.0, 17.0, 7.0, 27.0, 24.0, 8.0, 7.0, 20.0, 6.0, 6.0, 47.0, 5.0, 23.0, 7.0, 8.0, 35.0, 5.0, 25.0, 9.0, 8.0, 6.0, 5.0, 6.333333333, 8.0, 4.0, 7.0, 8.0, 9.0, 20.5, 9.0, 25.0, 36.0, 19.0, 18.0, 9.0, 21.5, 20.0, 18.0, 41.0, 25.0, 7.0, 72.0, 8.0, 6.0, 5.0, 7.0, 18.0, 22.0, 6.0, 22.0, 8.0, 25.0, 9.0, 8.0, 8.0, 8.0, 9.0, 20.0, 20.0, 25.0, 23.0, 24.0, 7.0, 30.0, 5.0, 6.0, 8.0, 20.0, 17.0, 8.666666667, 9.0, 20.0, 8.0, 28.0, 9.0, 8.0, 8.0, 8.0, 5.0, 18.0, 9.0, 9.0, 17.0, 5.0, 19.0, 7.0, 8.0, 18.0, 8.0, 7.0, 22.0, 5.0, 26.0, 4.0, 6.0, 38.0, 8.0, 7.0, 33.0, 8.0, 8.0, 29.0, 42.0, 20.0, 3.0, 19.0, 8.0, 7.0, 24.0, 20.0, 6.0, 19.0, 17.0, 6.0, 27.0, 8.0, 4.0, 8.0, 24.0, 22.0, 3.0, 6.0, 38.0, 4.0, 5.0, 29.0, 21.0, 6.0, 17.0, 25.0, 17.0, 4.0, 19.0, 28.0, 17.0, 23.0, 4.0, 21.0, 19.0, 17.0, 21.0, 8.0, 22.0, 8.0, 5.0, 21.0, 8.0, 9.0, 9.0, 22.0, 17.0, 6.0, 9.0, 32.0, 6.0, 21.0, 17.0, 23.0, 18.0, 23.0, 7.0, 35.0, 28.0, 17.0, 6.0, 4.0, 25.0, 6.0, 6.0, 7.0, 6.0, 17.0, 22.0, 25.0, 5.0, 9.0, 6.0, 4.0, 29.0, 4.0, 4.0, 8.0, 20.0, 22.0, 22.5, 9.0, 42.0, 7.0, 5.5, 9.0, 7.0, 20.0, 35.0, 21.0, 18.0, 4.0, 8.0, 24.0, 5.0, 8.0, 23.0, 22.0, 6.0, 26.0, 18.0, 18.0], \"validation\": []}, {\"column\": \"creatinine\", \"alias\": \"creatinine\", \"generated\": 0, \"type\": \"real\", \"max\": 1.774618353, \"min\": 0.49636912, \"mean\": 1.114055964596985, \"missing\": 0.0, \"stddev\": 0.2, \"outliers\": [1.585313601, 1.640736145, 1.721810542, 0.603728088, 0.65032338, 1.573023377, 1.629944978, 1.613905837, 1.654858411, 0.664450683, 0.698324302, 0.680227346, 0.684232859, 1.648781887, 1.774618353, 1.578558839, 1.644648259, 0.65223829, 0.669742458, 1.669489451, 0.560094263, 1.575308221, 0.625689397, 1.575213177, 0.626090592, 0.642031387, 1.583571672, 1.57180024, 0.655631828, 0.622096597, 0.49636912, 0.541100566, 0.659694859, 0.556845264, 1.605155113], \"validation\": []}, {\"column\": \"bmi\", \"alias\": \"bmi\", \"generated\": 0, \"type\": \"real\", \"max\": 35.2561749, \"min\": 23.4727059, \"mean\": 29.73807553562814, \"missing\": 0.0, \"stddev\": 1.94, \"outliers\": [25.17006612, 24.1437635, 24.71208143, 25.02874736, 25.17576026, 24.55207325, 25.11550388, 34.16839178, 34.90310156, 34.47672246, 24.79015531, 34.37823302, 25.00703957, 34.55187804, 25.34615189, 24.59660814, 24.31878629, 35.2561749, 24.77719222, 34.6917696, 35.02288122, 34.48832878, 34.84898953, 23.4727059, 34.08400792, 35.1972219, 25.40004138, 25.2634782, 34.35237714, 25.26858318], \"validation\": []}, {\"column\": \"pulse\", \"alias\": \"pulse\", \"generated\": 0, \"type\": \"numeric\", \"max\": 109, \"min\": 31, \"mean\": 73.29045226130653, \"missing\": 0.0, \"stddev\": 11.42, \"outliers\": [46, 101, 37, 45, 43, 46, 44, 103, 100, 47, 109, 100, 31, 47, 37, 47, 42, 101, 44, 42], \"validation\": []}, {\"column\": \"respiration\", \"alias\": \"respiration\", \"generated\": 0, \"type\": \"real\", \"max\": 8.9, \"min\": 0.5, \"mean\": 6.478040201005025, \"missing\": 0.0, \"stddev\": 0.56, \"outliers\": [7.2, 6.4, 6.4, 5.6, 5.6, 5.5, 5.3, 7.0, 6.2, 6.1, 6.0, 6.6, 7.6, 8.9, 8.0, 6.7, 7.0, 6.1, 5.6, 6.3, 7.1, 5.6, 8.4, 7.0, 7.2, 7.1, 7.4, 6.6, 6.3, 6.3, 6.2, 4.3, 6.8, 6.7, 6.7, 6.9, 8.6, 8.0, 5.7, 7.6, 7.4, 7.6, 6.9, 5.2, 6.8, 5.8, 5.6, 6.0, 4.85, 6.0, 5.0, 7.8, 5.8, 5.4, 6.7, 6.4, 5.8, 7.2, 7.0, 7.5, 7.5, 1.6, 6.7, 6.0, 6.3, 7.1, 6.0, 5.9, 7.1, 5.9, 7.1, 7.45, 7.2, 7.4, 7.8, 6.8, 5.5, 6.8, 7.9, 5.3, 6.4, 7.7, 5.9, 8.0, 6.1, 6.7, 7.3, 6.7, 6.8, 4.7, 6.0, 4.9, 6.7, 5.9, 6.4, 7.3, 7.2, 6.0, 5.8, 6.6, 0.5, 6.2, 6.6, 6.3, 5.6, 6.2, 5.5, 6.6, 7.0, 6.7, 6.3, 6.2, 6.8, 6.4, 6.8, 7.6, 5.4, 5.9, 6.7, 5.0, 5.9, 5.9, 5.6, 5.6, 5.3, 5.3, 5.2, 5.4, 8.5, 5.0, 6.4, 7.6, 7.1, 7.8, 5.6, 6.3, 7.7, 5.7, 6.1, 6.1, 6.6, 7.0, 7.6, 7.3, 6.0, 5.8, 6.2, 6.1, 6.0, 6.3, 7.7, 7.2, 5.7, 6.8, 7.2, 6.9, 7.2, 6.2, 6.9, 5.1, 5.5, 6.0, 5.4, 6.7, 6.9, 6.0, 6.8, 6.4, 6.6, 6.3, 6.4, 8.0, 4.4, 5.8, 5.2, 7.0, 6.8, 6.4, 5.8, 5.4, 7.4, 8.0, 6.3, 7.7, 7.1, 7.35, 6.1, 6.7, 7.1, 8.2, 7.55, 6.3, 4.9, 6.7, 6.65, 6.3, 6.8, 7.0, 7.1, 7.6, 6.9, 6.3, 5.4, 4.4, 6.7, 6.0, 7.8, 7.7, 5.4, 6.8, 6.4, 6.8, 4.8, 6.3, 7.8, 7.6, 4.9, 7.0, 5.9, 6.2, 7.4, 6.9, 7.4, 6.7, 7.2, 7.8, 6.3, 8.2, 5.4, 8.0, 6.7, 7.3, 4.5, 5.1, 6.2, 6.3, 6.0, 6.3, 6.4, 6.1, 5.4, 5.6, 5.6, 6.8, 7.0, 5.4, 7.2, 6.1, 4.1, 7.0, 6.8, 7.0, 7.0, 6.0, 6.6, 6.9, 6.55, 5.8, 5.5, 6.3, 8.0, 5.8, 7.5, 7.4, 6.1, 6.8, 7.5, 6.1, 6.7, 5.35, 8.2, 4.4, 6.9, 6.8, 7.2, 7.2, 6.6, 6.3, 6.2, 6.2, 5.0, 4.6, 7.5, 6.7, 6.6, 5.4, 6.2, 6.3, 6.0, 7.1, 8.0, 6.4, 6.1, 5.5, 6.0, 7.2, 6.6, 5.4, 6.9, 5.7, 5.3, 6.3, 7.3, 6.25, 7.4, 6.1, 5.5, 8.5, 7.3, 6.0, 5.5, 6.7, 7.1, 4.8, 6.8, 5.6, 6.4, 5.4, 5.6, 6.2, 5.6, 7.8, 6.4, 6.7, 5.4, 6.9, 6.8, 5.55, 7.2, 5.7], \"validation\": []}, {\"column\": \"date\", \"alias\": \"date\", \"generated\": 1, \"type\": \"date\", \"max\": \"2015922\", \"min\": \"201311\", \"mean\": \"\", \"missing\": 0.0, \"stddev\": \"\", \"outliers\": [], \"validation\": []}]}, \"predictionPowerScore\": [{\"AdmitDate\": 1.0, \"bloodureanitro\": 0.0, \"bmi\": 0.0, \"creatinine\": 0.0, \"date\": 0.0, \"gender\": 0.0, \"glucose\": 0.0, \"hematocrit\": 0.0, \"lengthofstay\": 0.0, \"neutrophils\": 0.0, \"pulse\": 0.0, \"rcount\": 0.0, \"respiration\": 0.0, \"sodium\": 0.0}, {\"AdmitDate\": 0.0, \"bloodureanitro\": 1.0, \"bmi\": 0.0, \"creatinine\": 0.0, \"date\": 0.0, \"gender\": 0.0, \"glucose\": 0.0, \"hematocrit\": 0.0, \"lengthofstay\": 0.0, \"neutrophils\": 0.0, \"pulse\": 0.0, \"rcount\": 0.0, \"respiration\": 0.0, \"sodium\": 0.0}, {\"AdmitDate\": 0.0, \"bloodureanitro\": 0.0, \"bmi\": 1.0, \"creatinine\": 0.0, \"date\": 0.0, \"gender\": 0.0, \"glucose\": 0.0, \"hematocrit\": 0.0, \"lengthofstay\": 0.0, \"neutrophils\": 0.0, \"pulse\": 0.0, \"rcount\": 0.0, \"respiration\": 0.0, \"sodium\": 0.0}, {\"AdmitDate\": 0.0, \"bloodureanitro\": 0.0, \"bmi\": 0.0, \"creatinine\": 1.0, \"date\": 0.0, \"gender\": 0.0, \"glucose\": 0.0, \"hematocrit\": 0.0, \"lengthofstay\": 0.0, \"neutrophils\": 0.0, \"pulse\": 0.0, \"rcount\": 0.0, \"respiration\": 0.0, \"sodium\": 0.0}, {\"AdmitDate\": 0.0, \"bloodureanitro\": 0.0, \"bmi\": 0.0, \"creatinine\": 0.0, \"date\": 1.0, \"gender\": 0.0, \"glucose\": 0.0, \"hematocrit\": 0.0, \"lengthofstay\": 0.0, \"neutrophils\": 0.0, \"pulse\": 0.0, \"rcount\": 0.0, \"respiration\": 0.0, \"sodium\": 0.0}, {\"AdmitDate\": 0.0, \"bloodureanitro\": 0.1576970336, \"bmi\": 0.0, \"creatinine\": 0.0205931394, \"date\": 0.0, \"gender\": 1.0, \"glucose\": 0.0278616409, \"hematocrit\": 0.3016365445, \"lengthofstay\": 0.0, \"neutrophils\": 0.1538111051, \"pulse\": 0.0112311624, \"rcount\": 0.0, \"respiration\": 0.0, \"sodium\": 0.0}, {\"AdmitDate\": 0.0, \"bloodureanitro\": 0.0, \"bmi\": 0.0, \"creatinine\": 0.0, \"date\": 0.0, \"gender\": 0.0, \"glucose\": 1.0, \"hematocrit\": 0.0, \"lengthofstay\": 0.0, \"neutrophils\": 0.0, \"pulse\": 0.0, \"rcount\": 0.0, \"respiration\": 0.0, \"sodium\": 0.0}, {\"AdmitDate\": 0.0, \"bloodureanitro\": 0.0, \"bmi\": 0.0, \"creatinine\": 0.0, \"date\": 0.0, \"gender\": 0.0, \"glucose\": 0.0, \"hematocrit\": 1.0, \"lengthofstay\": 0.0, \"neutrophils\": 0.0, \"pulse\": 0.0, \"rcount\": 0.0, \"respiration\": 0.0, \"sodium\": 0.0}, {\"AdmitDate\": 0.0, \"bloodureanitro\": 0.0002408721, \"bmi\": 0.0, \"creatinine\": 0.0, \"date\": 0.0, \"gender\": 0.0, \"glucose\": 0.0, \"hematocrit\": 0.0, \"lengthofstay\": 1.0, \"neutrophils\": 0.0, \"pulse\": 0.0, \"rcount\": 0.3457462606, \"respiration\": 0.0, \"sodium\": 0.0}, {\"AdmitDate\": 0.0, \"bloodureanitro\": 0.0, \"bmi\": 0.0, \"creatinine\": 0.0, \"date\": 0.0, \"gender\": 0.0, \"glucose\": 0.0, \"hematocrit\": 0.0, \"lengthofstay\": 0.0, \"neutrophils\": 1.0, \"pulse\": 0.0, \"rcount\": 0.0, \"respiration\": 0.0, \"sodium\": 0.0}, {\"AdmitDate\": 0.0, \"bloodureanitro\": 0.0, \"bmi\": 0.0, \"creatinine\": 0.0, \"date\": 0.0, \"gender\": 0.0, \"glucose\": 0.0, \"hematocrit\": 0.0, \"lengthofstay\": 0.0, \"neutrophils\": 0.0, \"pulse\": 1.0, \"rcount\": 0.0, \"respiration\": 0.0, \"sodium\": 0.0}, {\"AdmitDate\": 0.0, \"bloodureanitro\": 0.0, \"bmi\": 0.0, \"creatinine\": 0.0, \"date\": 0.0, \"gender\": 0.0, \"glucose\": 0.0, \"hematocrit\": 0.0, \"lengthofstay\": 0.4210569476, \"neutrophils\": 0.0, \"pulse\": 0.0, \"rcount\": 1.0, \"respiration\": 0.0, \"sodium\": 0.0}, {\"AdmitDate\": 0.0, \"bloodureanitro\": 0.0, \"bmi\": 0.0, \"creatinine\": 0.0, \"date\": 0.0, \"gender\": 0.0, \"glucose\": 0.0, \"hematocrit\": 0.0, \"lengthofstay\": 0.0, \"neutrophils\": 0.0, \"pulse\": 0.0, \"rcount\": 0.0, \"respiration\": 1.0, \"sodium\": 0.0}, {\"AdmitDate\": 0.0, \"bloodureanitro\": 0.0, \"bmi\": 0.0, \"creatinine\": 0.0, \"date\": 0.0, \"gender\": 0.0, \"glucose\": 0.0, \"hematocrit\": 0.0, \"lengthofstay\": 0.0, \"neutrophils\": 0.0, \"pulse\": 0.0, \"rcount\": 0.0027783773, \"respiration\": 0.0, \"sodium\": 1.0}], \"HasBasicStats\": 1, \"functionsApplied\": [{\"functionName\": \"transformDate\", \"applyOn\": [{\"columnName\": \"AdmitDate\", \"type\": \"date\", \"min\": \"201311\", \"max\": \"2015922\", \"mean\": \"-\"}], \"functionsData\": [{\"column\": [{\"columnName\": \"AdmitDate\", \"type\": \"date\", \"min\": \"201311\", \"max\": \"2015922\", \"mean\": \"-\"}], \"inputDateFormat\": \"MM/DD/YYYY\", \"outputDateFormat\": \"YYYY-MM-DD\", \"newColumn\": \"True\", \"newColumnName\": \"date\"}]}], \"functionChanges\": [{\"columnName\": \"AdmitDate\", \"functionName\": \"transformDate\", \"Type\": \"date\", \"Parameters\": [{\"column\": [{\"columnName\": \"AdmitDate\", \"type\": \"date\", \"min\": \"201311\", \"max\": \"2015922\", \"mean\": \"-\"}], \"inputDateFormat\": \"MM/DD/YYYY\", \"outputDateFormat\": \"YYYY-MM-DD\", \"newColumn\": \"True\", \"newColumnName\": \"date\"}]}], \"fileheader\": [{\"field\": \"AdmitDate\", \"alias\": \"AdmitDate\", \"generated\": 0, \"position\": 1, \"type\": \"date\"}, {\"field\": \"lengthofstay\", \"alias\": \"lengthofstay\", \"generated\": 0, \"position\": 2, \"type\": \"numeric\"}, {\"field\": \"rcount\", \"alias\": \"rcount\", \"generated\": 0, \"position\": 3, \"type\": \"numeric\"}, {\"field\": \"gender\", \"alias\": \"gender\", \"generated\": 0, \"position\": 4, \"type\": \"String\"}, {\"field\": \"hematocrit\", \"alias\": \"hematocrit\", \"generated\": 0, \"position\": 5, \"type\": \"real\"}, {\"field\": \"neutrophils\", \"alias\": \"neutrophils\", \"generated\": 0, \"position\": 6, \"type\": \"real\"}, {\"field\": \"sodium\", \"alias\": \"sodium\", \"generated\": 0, \"position\": 7, \"type\": \"real\"}, {\"field\": \"glucose\", \"alias\": \"glucose\", \"generated\": 0, \"position\": 8, \"type\": \"real\"}, {\"field\": \"bloodureanitro\", \"alias\": \"bloodureanitro\", \"generated\": 0, \"position\": 9, \"type\": \"real\"}, {\"field\": \"creatinine\", \"alias\": \"creatinine\", \"generated\": 0, \"position\": 10, \"type\": \"real\"}, {\"field\": \"bmi\", \"alias\": \"bmi\", \"generated\": 0, \"position\": 11, \"type\": \"real\"}, {\"field\": \"pulse\", \"alias\": \"pulse\", \"generated\": 0, \"position\": 12, \"type\": \"numeric\"}, {\"field\": \"respiration\", \"alias\": \"respiration\", \"generated\": 0, \"position\": 13, \"type\": \"real\"}, {\"field\": \"date\", \"alias\": \"date\", \"generated\": 1, \"position\": 14, \"type\": \"date\"}]}))\n",
    "\t#operationPostExecutionHook(datapreparation)\n",
    "\n",
    "except Exception as ex: \n",
    "\tlogging.error(ex)\n"
   ]
  },
  {
   "cell_type": "markdown",
   "id": "2a103b24",
   "metadata": {},
   "source": [
    "***WRITING DATAFRAME***"
   ]
  },
  {
   "cell_type": "code",
   "execution_count": null,
   "id": "b16ab457",
   "metadata": {},
   "outputs": [],
   "source": [
    "#%run regggggHooks.ipynb\n",
    "try:\n",
    "\t#sinkPreExecutionHook()\n",
    "\n",
    "\tprojectoutput = NumtraConnector.fetch(spark, \"{'samplefile': '/FileStore/platform/sampleData/66618d088a1ee41285a4007c/part-00000-f8516e1f-3ddf-4f06-9845-80afcad3dc15-c000.csv', 'samplecount': 995, 'originalcount': 995, 'orignalKey': '/FileStore/platform/testdata/1717660077180_Regression date data.csv', 'pathOnly': '/project_2', 'project_id': '663338ae03535a0bcb3290a4', 'parent_id': '663338ae03535a0bcb3290a4', 'original_schema': [{'checked': True, 'inherited': True, 'is_categorical': False, 'bad_values': '', 'nullable': 'true', 'field': 'AdmitDate', 'alias': 'AdmitDate', 'type': 'date', 'position': '0'}, {'checked': True, 'inherited': True, 'is_categorical': False, 'bad_values': '', 'nullable': 'true', 'field': 'lengthofstay', 'alias': 'lengthofstay', 'type': 'numeric', 'position': '1'}, {'checked': True, 'inherited': True, 'is_categorical': False, 'bad_values': '', 'nullable': 'true', 'field': 'rcount', 'alias': 'rcount', 'type': 'numeric', 'position': '2'}, {'checked': True, 'inherited': True, 'is_categorical': False, 'bad_values': '', 'nullable': 'true', 'field': 'gender', 'alias': 'gender', 'type': 'String', 'position': '3'}, {'checked': True, 'inherited': True, 'is_categorical': False, 'bad_values': '', 'nullable': 'true', 'field': 'hematocrit', 'alias': 'hematocrit', 'type': 'real', 'position': '4'}, {'checked': True, 'inherited': True, 'is_categorical': False, 'bad_values': '', 'nullable': 'true', 'field': 'neutrophils', 'alias': 'neutrophils', 'type': 'real', 'position': '5'}, {'checked': True, 'inherited': True, 'is_categorical': False, 'bad_values': '', 'nullable': 'true', 'field': 'sodium', 'alias': 'sodium', 'type': 'real', 'position': '6'}, {'checked': True, 'inherited': True, 'is_categorical': False, 'bad_values': '', 'nullable': 'true', 'field': 'glucose', 'alias': 'glucose', 'type': 'real', 'position': '7'}, {'checked': True, 'inherited': True, 'is_categorical': False, 'bad_values': '', 'nullable': 'true', 'field': 'bloodureanitro', 'alias': 'bloodureanitro', 'type': 'real', 'position': '8'}, {'checked': True, 'inherited': True, 'is_categorical': False, 'bad_values': '', 'nullable': 'true', 'field': 'creatinine', 'alias': 'creatinine', 'type': 'real', 'position': '9'}, {'checked': True, 'inherited': True, 'is_categorical': False, 'bad_values': '', 'nullable': 'true', 'field': 'bmi', 'alias': 'bmi', 'type': 'real', 'position': '10'}, {'checked': True, 'inherited': True, 'is_categorical': False, 'bad_values': '', 'nullable': 'true', 'field': 'pulse', 'alias': 'pulse', 'type': 'numeric', 'position': '11'}, {'checked': True, 'inherited': True, 'is_categorical': False, 'bad_values': '', 'nullable': 'true', 'field': 'respiration', 'alias': 'respiration', 'type': 'real', 'position': '12'}, {'checked': True, 'inherited': True, 'is_categorical': False, 'bad_values': '', 'nullable': 'true', 'field': 'date', 'alias': 'date', 'type': 'date', 'position': '14'}], 'actual_schema': [{'checked': True, 'inherited': True, 'is_categorical': False, 'bad_values': '', 'nullable': 'true', 'field': 'AdmitDate', 'alias': 'AdmitDate', 'type': 'date', 'position': '0'}, {'checked': True, 'inherited': True, 'is_categorical': False, 'bad_values': '', 'nullable': 'true', 'field': 'lengthofstay', 'alias': 'lengthofstay', 'type': 'numeric', 'position': '1'}, {'checked': True, 'inherited': True, 'is_categorical': False, 'bad_values': '', 'nullable': 'true', 'field': 'rcount', 'alias': 'rcount', 'type': 'numeric', 'position': '2'}, {'checked': True, 'inherited': True, 'is_categorical': False, 'bad_values': '', 'nullable': 'true', 'field': 'gender', 'alias': 'gender', 'type': 'String', 'position': '3'}, {'checked': True, 'inherited': True, 'is_categorical': False, 'bad_values': '', 'nullable': 'true', 'field': 'hematocrit', 'alias': 'hematocrit', 'type': 'real', 'position': '4'}, {'checked': True, 'inherited': True, 'is_categorical': False, 'bad_values': '', 'nullable': 'true', 'field': 'neutrophils', 'alias': 'neutrophils', 'type': 'real', 'position': '5'}, {'checked': True, 'inherited': True, 'is_categorical': False, 'bad_values': '', 'nullable': 'true', 'field': 'sodium', 'alias': 'sodium', 'type': 'real', 'position': '6'}, {'checked': True, 'inherited': True, 'is_categorical': False, 'bad_values': '', 'nullable': 'true', 'field': 'glucose', 'alias': 'glucose', 'type': 'real', 'position': '7'}, {'checked': True, 'inherited': True, 'is_categorical': False, 'bad_values': '', 'nullable': 'true', 'field': 'bloodureanitro', 'alias': 'bloodureanitro', 'type': 'real', 'position': '8'}, {'checked': True, 'inherited': True, 'is_categorical': False, 'bad_values': '', 'nullable': 'true', 'field': 'creatinine', 'alias': 'creatinine', 'type': 'real', 'position': '9'}, {'checked': True, 'inherited': True, 'is_categorical': False, 'bad_values': '', 'nullable': 'true', 'field': 'bmi', 'alias': 'bmi', 'type': 'real', 'position': '10'}, {'checked': True, 'inherited': True, 'is_categorical': False, 'bad_values': '', 'nullable': 'true', 'field': 'pulse', 'alias': 'pulse', 'type': 'numeric', 'position': '11'}, {'checked': True, 'inherited': True, 'is_categorical': False, 'bad_values': '', 'nullable': 'true', 'field': 'respiration', 'alias': 'respiration', 'type': 'real', 'position': '12'}], 'server': 'https://dnm.bfirst.ai:443', 'server_url': '/nexusMax/NexusMaxPlatform/uploads/platform/', 'delimiter': ',', 'file_type': 'Delimeted', 'filename': 'reg22.csv', 'token': '', 'domain': '', 'is_header': 'Use Header Line', 'url': '/FileStore/platform/uploadedSourceFiles/part-00000-d37a3806-d86c-4c22-bfd5-16a315706ed4-c000.csv', 'results_url': 'http://dnm.bfirst.ai:44040/api/read/hdfs'}\")\n",
    "\n",
    "except Exception as ex: \n",
    "\tlogging.error(ex)\n"
   ]
  }
 ],
 "metadata": {},
 "nbformat": 4,
 "nbformat_minor": 5
}
